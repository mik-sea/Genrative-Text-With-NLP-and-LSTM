{
  "nbformat": 4,
  "nbformat_minor": 0,
  "metadata": {
    "colab": {
      "provenance": [],
      "gpuType": "T4"
    },
    "kernelspec": {
      "name": "python3",
      "display_name": "Python 3"
    },
    "language_info": {
      "name": "python"
    },
    "accelerator": "GPU"
  },
  "cells": [
    {
      "cell_type": "markdown",
      "source": [
        "#import library"
      ],
      "metadata": {
        "id": "IQ8G8PcOFS16"
      }
    },
    {
      "cell_type": "code",
      "source": [
        "import pandas as pd"
      ],
      "metadata": {
        "id": "i7GPPQdFysJu"
      },
      "execution_count": null,
      "outputs": []
    },
    {
      "cell_type": "code",
      "source": [
        "import tensorflow as tf\n",
        "from tensorflow.keras.models import Sequential\n",
        "from tensorflow.keras.layers import LSTM, Dense, Embedding\n",
        "import numpy as np\n",
        "\n",
        "\n",
        "# Contoh dataset\n",
        "# text_data = \"bagaimana jika contohnya itu banyak sekaligus menjadi contoh yang sesuai contoh dan contoh menjadi contoh lainnya\"\n",
        "df = pd.read_csv('data.csv', encoding='utf-8');"
      ],
      "metadata": {
        "id": "4GLLq2lTzfMk"
      },
      "execution_count": null,
      "outputs": []
    },
    {
      "cell_type": "markdown",
      "source": [
        "#cek shape dari data"
      ],
      "metadata": {
        "id": "T7UM5-G2FV0C"
      }
    },
    {
      "cell_type": "code",
      "source": [
        "df.shape"
      ],
      "metadata": {
        "colab": {
          "base_uri": "https://localhost:8080/"
        },
        "id": "z5uXLUg17Br2",
        "outputId": "ce87cf43-979d-44f5-f4b8-cf9faf37bcb0"
      },
      "execution_count": null,
      "outputs": [
        {
          "output_type": "execute_result",
          "data": {
            "text/plain": [
              "(818, 1)"
            ]
          },
          "metadata": {},
          "execution_count": 5
        }
      ]
    },
    {
      "cell_type": "markdown",
      "source": [
        "#Training data model"
      ],
      "metadata": {
        "id": "PqeREdDIFaZD"
      }
    },
    {
      "cell_type": "code",
      "source": [
        "from sklearn.model_selection import train_test_split\n",
        "\n",
        "text_data = df['teks']\n",
        "\n",
        "# Membagi data menjadi train dan test dengan rasio 80:20\n",
        "train_data, test_data = train_test_split(text_data, test_size=0.2, random_state=42)\n",
        "\n",
        "# Tokenisasi pada data latih\n",
        "tokenizer = tf.keras.preprocessing.text.Tokenizer()\n",
        "tokenizer.fit_on_texts(train_data)\n",
        "\n",
        "total_words = len(tokenizer.word_index) + 1\n",
        "\n",
        "input_sequences = []\n",
        "for line in train_data:\n",
        "    token_list = tokenizer.texts_to_sequences([line])[0]\n",
        "    for i in range(1, len(token_list)):\n",
        "        n_gram_sequence = token_list[:i+1]\n",
        "        input_sequences.append(n_gram_sequence)\n",
        "\n",
        "max_sequence_length = max([len(x) for x in input_sequences])\n",
        "input_sequences = tf.keras.preprocessing.sequence.pad_sequences(input_sequences, maxlen=max_sequence_length, padding='pre')\n",
        "X_train, y_train = input_sequences[:,:-1], input_sequences[:,-1]\n",
        "y_train = tf.keras.utils.to_categorical(y_train, num_classes=total_words)\n",
        "\n",
        "# Tokenisasi pada data uji\n",
        "test_sequences = tokenizer.texts_to_sequences(test_data)\n",
        "test_input_sequences = []\n",
        "for line in test_sequences:\n",
        "    for i in range(1, len(line)):\n",
        "        n_gram_sequence = line[:i+1]\n",
        "        test_input_sequences.append(n_gram_sequence)\n",
        "\n",
        "test_input_sequences = tf.keras.preprocessing.sequence.pad_sequences(test_input_sequences, maxlen=max_sequence_length, padding='pre')\n",
        "X_test, y_test = test_input_sequences[:,:-1], test_input_sequences[:,-1]\n",
        "y_test = tf.keras.utils.to_categorical(y_test, num_classes=total_words)\n",
        "\n",
        "# Membuat model LSTM\n",
        "model = Sequential()\n",
        "model.add(Embedding(total_words, 50, input_length=max_sequence_length-1))\n",
        "model.add(LSTM(512))\n",
        "model.add(Dense(total_words, activation='softmax'))\n",
        "\n",
        "# Kompilasi model\n",
        "model.compile(loss='categorical_crossentropy', optimizer='adam', metrics=['accuracy'])\n",
        "\n",
        "# Melatih model\n",
        "model.fit(X_train, y_train, epochs=100, verbose=2, validation_data=(X_test, y_test))\n"
      ],
      "metadata": {
        "colab": {
          "base_uri": "https://localhost:8080/"
        },
        "id": "u2o3ODc4Gn_8",
        "outputId": "23f68121-2e7c-4594-c5a6-b039f61e2539"
      },
      "execution_count": null,
      "outputs": [
        {
          "output_type": "stream",
          "name": "stdout",
          "text": [
            "Epoch 1/100\n",
            "159/159 - 24s - loss: 7.0723 - accuracy: 0.0162 - val_loss: 6.4728 - val_accuracy: 0.0205 - 24s/epoch - 152ms/step\n",
            "Epoch 2/100\n",
            "159/159 - 7s - loss: 6.6750 - accuracy: 0.0213 - val_loss: 6.4669 - val_accuracy: 0.0235 - 7s/epoch - 43ms/step\n",
            "Epoch 3/100\n",
            "159/159 - 4s - loss: 6.5343 - accuracy: 0.0203 - val_loss: 6.4047 - val_accuracy: 0.0266 - 4s/epoch - 28ms/step\n",
            "Epoch 4/100\n",
            "159/159 - 4s - loss: 6.3500 - accuracy: 0.0273 - val_loss: 6.4614 - val_accuracy: 0.0338 - 4s/epoch - 22ms/step\n",
            "Epoch 5/100\n",
            "159/159 - 3s - loss: 6.0930 - accuracy: 0.0286 - val_loss: 6.4199 - val_accuracy: 0.0164 - 3s/epoch - 17ms/step\n",
            "Epoch 6/100\n",
            "159/159 - 3s - loss: 5.7450 - accuracy: 0.0405 - val_loss: 6.5151 - val_accuracy: 0.0266 - 3s/epoch - 19ms/step\n",
            "Epoch 7/100\n",
            "159/159 - 3s - loss: 5.2888 - accuracy: 0.0535 - val_loss: 6.6860 - val_accuracy: 0.0235 - 3s/epoch - 17ms/step\n",
            "Epoch 8/100\n",
            "159/159 - 3s - loss: 4.7448 - accuracy: 0.0877 - val_loss: 6.9330 - val_accuracy: 0.0246 - 3s/epoch - 18ms/step\n",
            "Epoch 9/100\n",
            "159/159 - 3s - loss: 4.1035 - accuracy: 0.1605 - val_loss: 7.1680 - val_accuracy: 0.0317 - 3s/epoch - 19ms/step\n",
            "Epoch 10/100\n",
            "159/159 - 2s - loss: 3.4518 - accuracy: 0.2634 - val_loss: 7.4595 - val_accuracy: 0.0317 - 2s/epoch - 16ms/step\n",
            "Epoch 11/100\n",
            "159/159 - 3s - loss: 2.8207 - accuracy: 0.4147 - val_loss: 7.6691 - val_accuracy: 0.0297 - 3s/epoch - 16ms/step\n",
            "Epoch 12/100\n",
            "159/159 - 3s - loss: 2.2855 - accuracy: 0.5346 - val_loss: 7.8872 - val_accuracy: 0.0328 - 3s/epoch - 18ms/step\n",
            "Epoch 13/100\n",
            "159/159 - 2s - loss: 1.8675 - accuracy: 0.6301 - val_loss: 8.0794 - val_accuracy: 0.0358 - 2s/epoch - 13ms/step\n",
            "Epoch 14/100\n",
            "159/159 - 2s - loss: 1.5488 - accuracy: 0.6949 - val_loss: 8.2292 - val_accuracy: 0.0358 - 2s/epoch - 13ms/step\n",
            "Epoch 15/100\n",
            "159/159 - 2s - loss: 1.3219 - accuracy: 0.7419 - val_loss: 8.3721 - val_accuracy: 0.0328 - 2s/epoch - 13ms/step\n",
            "Epoch 16/100\n",
            "159/159 - 2s - loss: 1.1443 - accuracy: 0.7786 - val_loss: 8.4966 - val_accuracy: 0.0307 - 2s/epoch - 13ms/step\n",
            "Epoch 17/100\n",
            "159/159 - 2s - loss: 1.0107 - accuracy: 0.8015 - val_loss: 8.5770 - val_accuracy: 0.0297 - 2s/epoch - 13ms/step\n",
            "Epoch 18/100\n",
            "159/159 - 2s - loss: 0.8995 - accuracy: 0.8193 - val_loss: 8.7175 - val_accuracy: 0.0348 - 2s/epoch - 14ms/step\n",
            "Epoch 19/100\n",
            "159/159 - 2s - loss: 0.8080 - accuracy: 0.8337 - val_loss: 8.8153 - val_accuracy: 0.0317 - 2s/epoch - 14ms/step\n",
            "Epoch 20/100\n",
            "159/159 - 2s - loss: 0.7329 - accuracy: 0.8436 - val_loss: 8.9314 - val_accuracy: 0.0338 - 2s/epoch - 12ms/step\n",
            "Epoch 21/100\n",
            "159/159 - 2s - loss: 0.6758 - accuracy: 0.8556 - val_loss: 8.9833 - val_accuracy: 0.0317 - 2s/epoch - 13ms/step\n",
            "Epoch 22/100\n",
            "159/159 - 2s - loss: 0.6183 - accuracy: 0.8626 - val_loss: 9.0836 - val_accuracy: 0.0297 - 2s/epoch - 13ms/step\n",
            "Epoch 23/100\n",
            "159/159 - 2s - loss: 0.5772 - accuracy: 0.8711 - val_loss: 9.1810 - val_accuracy: 0.0317 - 2s/epoch - 13ms/step\n",
            "Epoch 24/100\n",
            "159/159 - 2s - loss: 0.5315 - accuracy: 0.8768 - val_loss: 9.2279 - val_accuracy: 0.0358 - 2s/epoch - 14ms/step\n",
            "Epoch 25/100\n",
            "159/159 - 2s - loss: 0.4942 - accuracy: 0.8855 - val_loss: 9.3178 - val_accuracy: 0.0307 - 2s/epoch - 13ms/step\n",
            "Epoch 26/100\n",
            "159/159 - 2s - loss: 0.4657 - accuracy: 0.8880 - val_loss: 9.4214 - val_accuracy: 0.0368 - 2s/epoch - 12ms/step\n",
            "Epoch 27/100\n",
            "159/159 - 2s - loss: 0.4338 - accuracy: 0.8908 - val_loss: 9.4844 - val_accuracy: 0.0389 - 2s/epoch - 15ms/step\n",
            "Epoch 28/100\n",
            "159/159 - 2s - loss: 0.4122 - accuracy: 0.8987 - val_loss: 9.5337 - val_accuracy: 0.0379 - 2s/epoch - 13ms/step\n",
            "Epoch 29/100\n",
            "159/159 - 2s - loss: 0.3939 - accuracy: 0.9028 - val_loss: 9.5874 - val_accuracy: 0.0338 - 2s/epoch - 13ms/step\n",
            "Epoch 30/100\n",
            "159/159 - 3s - loss: 0.3733 - accuracy: 0.9042 - val_loss: 9.5846 - val_accuracy: 0.0338 - 3s/epoch - 16ms/step\n",
            "Epoch 31/100\n",
            "159/159 - 2s - loss: 0.3638 - accuracy: 0.9056 - val_loss: 9.6686 - val_accuracy: 0.0358 - 2s/epoch - 15ms/step\n",
            "Epoch 32/100\n",
            "159/159 - 2s - loss: 0.3645 - accuracy: 0.9017 - val_loss: 9.6974 - val_accuracy: 0.0348 - 2s/epoch - 12ms/step\n",
            "Epoch 33/100\n",
            "159/159 - 2s - loss: 0.3322 - accuracy: 0.9072 - val_loss: 9.8018 - val_accuracy: 0.0328 - 2s/epoch - 12ms/step\n",
            "Epoch 34/100\n",
            "159/159 - 2s - loss: 0.3171 - accuracy: 0.9058 - val_loss: 9.8859 - val_accuracy: 0.0348 - 2s/epoch - 13ms/step\n",
            "Epoch 35/100\n",
            "159/159 - 2s - loss: 0.3183 - accuracy: 0.9066 - val_loss: 9.8840 - val_accuracy: 0.0328 - 2s/epoch - 13ms/step\n",
            "Epoch 36/100\n",
            "159/159 - 2s - loss: 0.3017 - accuracy: 0.9080 - val_loss: 9.9659 - val_accuracy: 0.0358 - 2s/epoch - 13ms/step\n",
            "Epoch 37/100\n",
            "159/159 - 2s - loss: 0.2893 - accuracy: 0.9076 - val_loss: 10.0423 - val_accuracy: 0.0328 - 2s/epoch - 14ms/step\n",
            "Epoch 38/100\n",
            "159/159 - 2s - loss: 0.2842 - accuracy: 0.9084 - val_loss: 10.0942 - val_accuracy: 0.0358 - 2s/epoch - 12ms/step\n",
            "Epoch 39/100\n",
            "159/159 - 2s - loss: 0.2781 - accuracy: 0.9100 - val_loss: 10.1207 - val_accuracy: 0.0328 - 2s/epoch - 13ms/step\n",
            "Epoch 40/100\n",
            "159/159 - 2s - loss: 0.2724 - accuracy: 0.9098 - val_loss: 10.1512 - val_accuracy: 0.0348 - 2s/epoch - 13ms/step\n",
            "Epoch 41/100\n",
            "159/159 - 2s - loss: 0.2667 - accuracy: 0.9102 - val_loss: 10.1715 - val_accuracy: 0.0348 - 2s/epoch - 12ms/step\n",
            "Epoch 42/100\n",
            "159/159 - 2s - loss: 0.2643 - accuracy: 0.9072 - val_loss: 10.1963 - val_accuracy: 0.0338 - 2s/epoch - 14ms/step\n",
            "Epoch 43/100\n",
            "159/159 - 2s - loss: 0.2646 - accuracy: 0.9100 - val_loss: 10.2456 - val_accuracy: 0.0348 - 2s/epoch - 13ms/step\n",
            "Epoch 44/100\n",
            "159/159 - 2s - loss: 0.2587 - accuracy: 0.9088 - val_loss: 10.2645 - val_accuracy: 0.0348 - 2s/epoch - 15ms/step\n",
            "Epoch 45/100\n",
            "159/159 - 2s - loss: 0.2672 - accuracy: 0.9094 - val_loss: 10.2762 - val_accuracy: 0.0338 - 2s/epoch - 11ms/step\n",
            "Epoch 46/100\n",
            "159/159 - 2s - loss: 0.2504 - accuracy: 0.9113 - val_loss: 10.3658 - val_accuracy: 0.0328 - 2s/epoch - 12ms/step\n",
            "Epoch 47/100\n",
            "159/159 - 2s - loss: 0.2472 - accuracy: 0.9098 - val_loss: 10.4135 - val_accuracy: 0.0317 - 2s/epoch - 12ms/step\n",
            "Epoch 48/100\n",
            "159/159 - 2s - loss: 0.2500 - accuracy: 0.9094 - val_loss: 10.4600 - val_accuracy: 0.0338 - 2s/epoch - 12ms/step\n",
            "Epoch 49/100\n",
            "159/159 - 2s - loss: 0.2457 - accuracy: 0.9109 - val_loss: 10.3981 - val_accuracy: 0.0307 - 2s/epoch - 14ms/step\n",
            "Epoch 50/100\n",
            "159/159 - 2s - loss: 0.7205 - accuracy: 0.7869 - val_loss: 9.9734 - val_accuracy: 0.0328 - 2s/epoch - 13ms/step\n",
            "Epoch 51/100\n",
            "159/159 - 2s - loss: 0.4710 - accuracy: 0.8555 - val_loss: 10.1794 - val_accuracy: 0.0338 - 2s/epoch - 12ms/step\n",
            "Epoch 52/100\n",
            "159/159 - 2s - loss: 0.2682 - accuracy: 0.9044 - val_loss: 10.1899 - val_accuracy: 0.0358 - 2s/epoch - 13ms/step\n",
            "Epoch 53/100\n",
            "159/159 - 2s - loss: 0.2426 - accuracy: 0.9078 - val_loss: 10.2410 - val_accuracy: 0.0368 - 2s/epoch - 11ms/step\n",
            "Epoch 54/100\n",
            "159/159 - 2s - loss: 0.2369 - accuracy: 0.9078 - val_loss: 10.2955 - val_accuracy: 0.0368 - 2s/epoch - 13ms/step\n",
            "Epoch 55/100\n",
            "159/159 - 2s - loss: 0.2346 - accuracy: 0.9094 - val_loss: 10.2972 - val_accuracy: 0.0409 - 2s/epoch - 12ms/step\n",
            "Epoch 56/100\n",
            "159/159 - 2s - loss: 0.2284 - accuracy: 0.9115 - val_loss: 10.3032 - val_accuracy: 0.0368 - 2s/epoch - 13ms/step\n",
            "Epoch 57/100\n",
            "159/159 - 2s - loss: 0.2314 - accuracy: 0.9121 - val_loss: 10.3208 - val_accuracy: 0.0409 - 2s/epoch - 14ms/step\n",
            "Epoch 58/100\n",
            "159/159 - 2s - loss: 0.2332 - accuracy: 0.9113 - val_loss: 10.3711 - val_accuracy: 0.0389 - 2s/epoch - 13ms/step\n",
            "Epoch 59/100\n",
            "159/159 - 2s - loss: 0.2303 - accuracy: 0.9102 - val_loss: 10.3708 - val_accuracy: 0.0348 - 2s/epoch - 11ms/step\n",
            "Epoch 60/100\n",
            "159/159 - 2s - loss: 0.2299 - accuracy: 0.9098 - val_loss: 10.3906 - val_accuracy: 0.0379 - 2s/epoch - 14ms/step\n",
            "Epoch 61/100\n",
            "159/159 - 2s - loss: 0.2258 - accuracy: 0.9080 - val_loss: 10.4073 - val_accuracy: 0.0409 - 2s/epoch - 13ms/step\n",
            "Epoch 62/100\n",
            "159/159 - 2s - loss: 0.2262 - accuracy: 0.9084 - val_loss: 10.4072 - val_accuracy: 0.0338 - 2s/epoch - 12ms/step\n",
            "Epoch 63/100\n",
            "159/159 - 2s - loss: 0.2263 - accuracy: 0.9111 - val_loss: 10.4105 - val_accuracy: 0.0379 - 2s/epoch - 15ms/step\n",
            "Epoch 64/100\n",
            "159/159 - 2s - loss: 0.2257 - accuracy: 0.9102 - val_loss: 10.4208 - val_accuracy: 0.0348 - 2s/epoch - 13ms/step\n",
            "Epoch 65/100\n",
            "159/159 - 2s - loss: 0.2252 - accuracy: 0.9115 - val_loss: 10.4590 - val_accuracy: 0.0368 - 2s/epoch - 14ms/step\n",
            "Epoch 66/100\n",
            "159/159 - 2s - loss: 0.2391 - accuracy: 0.9088 - val_loss: 10.3702 - val_accuracy: 0.0368 - 2s/epoch - 13ms/step\n",
            "Epoch 67/100\n",
            "159/159 - 2s - loss: 0.2406 - accuracy: 0.9084 - val_loss: 10.5038 - val_accuracy: 0.0358 - 2s/epoch - 12ms/step\n",
            "Epoch 68/100\n",
            "159/159 - 2s - loss: 0.2355 - accuracy: 0.9086 - val_loss: 10.4270 - val_accuracy: 0.0379 - 2s/epoch - 12ms/step\n",
            "Epoch 69/100\n",
            "159/159 - 2s - loss: 0.2291 - accuracy: 0.9044 - val_loss: 10.5424 - val_accuracy: 0.0389 - 2s/epoch - 13ms/step\n",
            "Epoch 70/100\n",
            "159/159 - 2s - loss: 0.2239 - accuracy: 0.9102 - val_loss: 10.6102 - val_accuracy: 0.0430 - 2s/epoch - 15ms/step\n",
            "Epoch 71/100\n",
            "159/159 - 2s - loss: 0.2217 - accuracy: 0.9127 - val_loss: 10.5529 - val_accuracy: 0.0389 - 2s/epoch - 13ms/step\n",
            "Epoch 72/100\n",
            "159/159 - 2s - loss: 0.2223 - accuracy: 0.9096 - val_loss: 10.5349 - val_accuracy: 0.0399 - 2s/epoch - 13ms/step\n",
            "Epoch 73/100\n",
            "159/159 - 2s - loss: 0.2197 - accuracy: 0.9098 - val_loss: 10.5501 - val_accuracy: 0.0368 - 2s/epoch - 12ms/step\n",
            "Epoch 74/100\n",
            "159/159 - 2s - loss: 0.2226 - accuracy: 0.9102 - val_loss: 10.5724 - val_accuracy: 0.0389 - 2s/epoch - 13ms/step\n",
            "Epoch 75/100\n",
            "159/159 - 2s - loss: 0.2180 - accuracy: 0.9109 - val_loss: 10.6573 - val_accuracy: 0.0409 - 2s/epoch - 14ms/step\n",
            "Epoch 76/100\n",
            "159/159 - 2s - loss: 0.2172 - accuracy: 0.9092 - val_loss: 10.5900 - val_accuracy: 0.0379 - 2s/epoch - 14ms/step\n",
            "Epoch 77/100\n",
            "159/159 - 2s - loss: 0.2180 - accuracy: 0.9109 - val_loss: 10.6368 - val_accuracy: 0.0399 - 2s/epoch - 14ms/step\n",
            "Epoch 78/100\n",
            "159/159 - 2s - loss: 0.2185 - accuracy: 0.9078 - val_loss: 10.6082 - val_accuracy: 0.0379 - 2s/epoch - 12ms/step\n",
            "Epoch 79/100\n",
            "159/159 - 2s - loss: 0.2171 - accuracy: 0.9090 - val_loss: 10.6142 - val_accuracy: 0.0368 - 2s/epoch - 11ms/step\n",
            "Epoch 80/100\n",
            "159/159 - 2s - loss: 0.2164 - accuracy: 0.9117 - val_loss: 10.7082 - val_accuracy: 0.0399 - 2s/epoch - 13ms/step\n",
            "Epoch 81/100\n",
            "159/159 - 2s - loss: 0.2166 - accuracy: 0.9096 - val_loss: 10.6251 - val_accuracy: 0.0389 - 2s/epoch - 12ms/step\n",
            "Epoch 82/100\n",
            "159/159 - 2s - loss: 0.2136 - accuracy: 0.9113 - val_loss: 10.6965 - val_accuracy: 0.0420 - 2s/epoch - 13ms/step\n",
            "Epoch 83/100\n",
            "159/159 - 2s - loss: 0.2132 - accuracy: 0.9119 - val_loss: 10.6904 - val_accuracy: 0.0389 - 2s/epoch - 15ms/step\n",
            "Epoch 84/100\n",
            "159/159 - 2s - loss: 0.2140 - accuracy: 0.9076 - val_loss: 10.7374 - val_accuracy: 0.0358 - 2s/epoch - 12ms/step\n",
            "Epoch 85/100\n",
            "159/159 - 2s - loss: 0.2146 - accuracy: 0.9102 - val_loss: 10.8024 - val_accuracy: 0.0379 - 2s/epoch - 12ms/step\n",
            "Epoch 86/100\n",
            "159/159 - 2s - loss: 0.2111 - accuracy: 0.9111 - val_loss: 10.8459 - val_accuracy: 0.0389 - 2s/epoch - 11ms/step\n",
            "Epoch 87/100\n",
            "159/159 - 2s - loss: 0.2125 - accuracy: 0.9100 - val_loss: 10.7228 - val_accuracy: 0.0409 - 2s/epoch - 13ms/step\n",
            "Epoch 88/100\n",
            "159/159 - 2s - loss: 0.2106 - accuracy: 0.9100 - val_loss: 10.8343 - val_accuracy: 0.0389 - 2s/epoch - 13ms/step\n",
            "Epoch 89/100\n",
            "159/159 - 2s - loss: 0.2099 - accuracy: 0.9109 - val_loss: 10.7662 - val_accuracy: 0.0409 - 2s/epoch - 13ms/step\n",
            "Epoch 90/100\n",
            "159/159 - 2s - loss: 0.2096 - accuracy: 0.9094 - val_loss: 10.8873 - val_accuracy: 0.0379 - 2s/epoch - 12ms/step\n",
            "Epoch 91/100\n",
            "159/159 - 2s - loss: 0.2212 - accuracy: 0.9103 - val_loss: 10.8452 - val_accuracy: 0.0368 - 2s/epoch - 12ms/step\n",
            "Epoch 92/100\n",
            "159/159 - 2s - loss: 0.2497 - accuracy: 0.9054 - val_loss: 10.4739 - val_accuracy: 0.0420 - 2s/epoch - 12ms/step\n",
            "Epoch 93/100\n",
            "159/159 - 2s - loss: 0.5982 - accuracy: 0.8144 - val_loss: 10.3385 - val_accuracy: 0.0328 - 2s/epoch - 12ms/step\n",
            "Epoch 94/100\n",
            "159/159 - 2s - loss: 0.2896 - accuracy: 0.8947 - val_loss: 10.3766 - val_accuracy: 0.0420 - 2s/epoch - 12ms/step\n",
            "Epoch 95/100\n",
            "159/159 - 2s - loss: 0.2150 - accuracy: 0.9098 - val_loss: 10.4326 - val_accuracy: 0.0440 - 2s/epoch - 14ms/step\n",
            "Epoch 96/100\n",
            "159/159 - 2s - loss: 0.2093 - accuracy: 0.9115 - val_loss: 10.4829 - val_accuracy: 0.0461 - 2s/epoch - 13ms/step\n",
            "Epoch 97/100\n",
            "159/159 - 2s - loss: 0.2071 - accuracy: 0.9117 - val_loss: 10.4797 - val_accuracy: 0.0409 - 2s/epoch - 13ms/step\n",
            "Epoch 98/100\n",
            "159/159 - 2s - loss: 0.2071 - accuracy: 0.9094 - val_loss: 10.5066 - val_accuracy: 0.0471 - 2s/epoch - 12ms/step\n",
            "Epoch 99/100\n",
            "159/159 - 2s - loss: 0.2064 - accuracy: 0.9117 - val_loss: 10.5229 - val_accuracy: 0.0481 - 2s/epoch - 13ms/step\n",
            "Epoch 100/100\n",
            "159/159 - 2s - loss: 0.2063 - accuracy: 0.9117 - val_loss: 10.5437 - val_accuracy: 0.0440 - 2s/epoch - 11ms/step\n"
          ]
        },
        {
          "output_type": "execute_result",
          "data": {
            "text/plain": [
              "<keras.src.callbacks.History at 0x7ebdc00fba00>"
            ]
          },
          "metadata": {},
          "execution_count": 6
        }
      ]
    },
    {
      "cell_type": "markdown",
      "source": [
        "#Evaluate data train"
      ],
      "metadata": {
        "id": "aYU-fcqOFdiJ"
      }
    },
    {
      "cell_type": "code",
      "source": [
        "# Evaluasi model pada data train\n",
        "evaluation_results = model.evaluate(X_train, y_train)\n",
        "\n",
        "# Menampilkan hasil evaluasi\n",
        "print(\"Loss:\", evaluation_results[0])\n",
        "print(\"Accuracy:\", evaluation_results[1])\n"
      ],
      "metadata": {
        "colab": {
          "base_uri": "https://localhost:8080/"
        },
        "id": "Z8nAIeDInGjC",
        "outputId": "fdf90cfe-4303-4862-ca27-01d96cdde732"
      },
      "execution_count": null,
      "outputs": [
        {
          "output_type": "stream",
          "name": "stdout",
          "text": [
            "159/159 [==============================] - 1s 6ms/step - loss: 0.1692 - accuracy: 0.9269\n",
            "Loss: 0.1692229062318802\n",
            "Accuracy: 0.9269352555274963\n"
          ]
        }
      ]
    },
    {
      "cell_type": "markdown",
      "source": [
        "#Testing model setelah di train"
      ],
      "metadata": {
        "id": "SAy6QG7OFgct"
      }
    },
    {
      "cell_type": "code",
      "source": [
        "# Fungsi untuk membuat teks generatif tanpa kata berulang\n",
        "def generate_response(seed_text, next_words, model, max_sequence_length, tokenizer):\n",
        "    generated_text = seed_text\n",
        "\n",
        "    for _ in range(next_words):\n",
        "        # Mengonversi seed_text menjadi token dan melakukan padding\n",
        "        token_list = tokenizer.texts_to_sequences([seed_text])[0]\n",
        "        token_list = tf.keras.preprocessing.sequence.pad_sequences([token_list], maxlen=max_sequence_length-1, padding='pre')\n",
        "\n",
        "        # Memprediksi kata selanjutnya berdasarkan seed_text\n",
        "        predicted_probs = model.predict(token_list, verbose=0)[0]\n",
        "\n",
        "        # Pilih kata dengan probabilitas tertinggi\n",
        "        predicted_index = np.argmax(predicted_probs)\n",
        "        predicted_word = tokenizer.index_word.get(predicted_index, \"\")\n",
        "\n",
        "        # Menambahkan kata ke generated_text\n",
        "        generated_text += \" \" + predicted_word\n",
        "\n",
        "        # Menggunakan jawaban sistem sebagai seed_text untuk prediksi berikutnya\n",
        "        seed_text = generated_text\n",
        "\n",
        "    return generated_text\n",
        "\n",
        "# Contoh penggunaan model untuk menghasilkan jawaban sistem sebagai output\n",
        "seed_input = \"kak\"\n",
        "generated_response = generate_response(seed_input, 20, model, max_sequence_length, tokenizer)\n",
        "print(generated_response)"
      ],
      "metadata": {
        "id": "g6fVFD_64wC1",
        "colab": {
          "base_uri": "https://localhost:8080/"
        },
        "outputId": "aa27d010-02b4-47fd-ef5e-9a9728a33164"
      },
      "execution_count": null,
      "outputs": [
        {
          "output_type": "stream",
          "name": "stdout",
          "text": [
            "kak soalnya setengahnya lagi ada di mata kasih terus jantan angka dan lain tidur sementara banget yang jaga mereka melanjutkan istriku\n"
          ]
        }
      ]
    },
    {
      "cell_type": "markdown",
      "source": [
        "#save model data untuk digunakan kembali"
      ],
      "metadata": {
        "id": "gPcArxOkFko3"
      }
    },
    {
      "cell_type": "code",
      "source": [
        "model.save(\"data_waifu.h5\")"
      ],
      "metadata": {
        "colab": {
          "base_uri": "https://localhost:8080/"
        },
        "id": "iXvO2d69CgK1",
        "outputId": "d5f1f600-217e-4de5-82e7-8f2a14b54f43"
      },
      "execution_count": null,
      "outputs": [
        {
          "output_type": "stream",
          "name": "stderr",
          "text": [
            "/usr/local/lib/python3.10/dist-packages/keras/src/engine/training.py:3079: UserWarning: You are saving your model as an HDF5 file via `model.save()`. This file format is considered legacy. We recommend using instead the native Keras format, e.g. `model.save('my_model.keras')`.\n",
            "  saving_api.save_model(\n"
          ]
        }
      ]
    },
    {
      "cell_type": "code",
      "source": [],
      "metadata": {
        "id": "I64sIvtVRY03"
      },
      "execution_count": null,
      "outputs": []
    }
  ]
}